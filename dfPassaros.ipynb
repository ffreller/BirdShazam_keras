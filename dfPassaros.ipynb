{
 "cells": [
  {
   "cell_type": "code",
   "execution_count": 1,
   "metadata": {},
   "outputs": [],
   "source": [
    "import pandas as pd\n",
    "import numpy as np\n",
    "from scipy.io import wavfile\n",
    "from tqdm import tqdm"
   ]
  },
  {
   "cell_type": "code",
   "execution_count": 2,
   "metadata": {},
   "outputs": [
    {
     "data": {
      "text/html": [
       "<div>\n",
       "<style scoped>\n",
       "    .dataframe tbody tr th:only-of-type {\n",
       "        vertical-align: middle;\n",
       "    }\n",
       "\n",
       "    .dataframe tbody tr th {\n",
       "        vertical-align: top;\n",
       "    }\n",
       "\n",
       "    .dataframe thead th {\n",
       "        text-align: right;\n",
       "    }\n",
       "</style>\n",
       "<table border=\"1\" class=\"dataframe\">\n",
       "  <thead>\n",
       "    <tr style=\"text-align: right;\">\n",
       "      <th></th>\n",
       "      <th>WAV_total</th>\n",
       "      <th>Especie</th>\n",
       "      <th>Canto</th>\n",
       "      <th>mp3_total</th>\n",
       "      <th>se_pendrive</th>\n",
       "      <th>sub</th>\n",
       "      <th>se_15+</th>\n",
       "      <th>esp_sub</th>\n",
       "    </tr>\n",
       "  </thead>\n",
       "  <tbody>\n",
       "    <tr>\n",
       "      <th>0</th>\n",
       "      <td>59585ea4b32685f8e0328334b8fb966a.wav</td>\n",
       "      <td>Crypturellus</td>\n",
       "      <td>song</td>\n",
       "      <td>59585ea4b32685f8e0328334b8fb966a.mp3</td>\n",
       "      <td>sim</td>\n",
       "      <td>albigularis</td>\n",
       "      <td>sim</td>\n",
       "      <td>Crypturellus_albigularis</td>\n",
       "    </tr>\n",
       "    <tr>\n",
       "      <th>1</th>\n",
       "      <td>62843f1aae85dd853ac15d0db36c095b.wav</td>\n",
       "      <td>Crypturellus</td>\n",
       "      <td>song</td>\n",
       "      <td>62843f1aae85dd853ac15d0db36c095b.mp3</td>\n",
       "      <td>sim</td>\n",
       "      <td>albigularis</td>\n",
       "      <td>sim</td>\n",
       "      <td>Crypturellus_albigularis</td>\n",
       "    </tr>\n",
       "    <tr>\n",
       "      <th>2</th>\n",
       "      <td>323eed79164501a3b70838c319638159.wav</td>\n",
       "      <td>Crypturellus</td>\n",
       "      <td>song</td>\n",
       "      <td>323eed79164501a3b70838c319638159.mp3</td>\n",
       "      <td>sim</td>\n",
       "      <td>albigularis</td>\n",
       "      <td>sim</td>\n",
       "      <td>Crypturellus_albigularis</td>\n",
       "    </tr>\n",
       "    <tr>\n",
       "      <th>3</th>\n",
       "      <td>ca14c8ee56a94062f8436ea02a970971.wav</td>\n",
       "      <td>Crypturellus</td>\n",
       "      <td>song</td>\n",
       "      <td>ca14c8ee56a94062f8436ea02a970971.mp3</td>\n",
       "      <td>sim</td>\n",
       "      <td>albigularis</td>\n",
       "      <td>sim</td>\n",
       "      <td>Crypturellus_albigularis</td>\n",
       "    </tr>\n",
       "    <tr>\n",
       "      <th>4</th>\n",
       "      <td>cc8019aad97ab259345ea74e510a238b.wav</td>\n",
       "      <td>Crypturellus</td>\n",
       "      <td>song</td>\n",
       "      <td>cc8019aad97ab259345ea74e510a238b.mp3</td>\n",
       "      <td>sim</td>\n",
       "      <td>albigularis</td>\n",
       "      <td>sim</td>\n",
       "      <td>Crypturellus_albigularis</td>\n",
       "    </tr>\n",
       "  </tbody>\n",
       "</table>\n",
       "</div>"
      ],
      "text/plain": [
       "                              WAV_total       Especie Canto  \\\n",
       "0  59585ea4b32685f8e0328334b8fb966a.wav  Crypturellus  song   \n",
       "1  62843f1aae85dd853ac15d0db36c095b.wav  Crypturellus  song   \n",
       "2  323eed79164501a3b70838c319638159.wav  Crypturellus  song   \n",
       "3  ca14c8ee56a94062f8436ea02a970971.wav  Crypturellus  song   \n",
       "4  cc8019aad97ab259345ea74e510a238b.wav  Crypturellus  song   \n",
       "\n",
       "                              mp3_total se_pendrive          sub se_15+  \\\n",
       "0  59585ea4b32685f8e0328334b8fb966a.mp3         sim  albigularis    sim   \n",
       "1  62843f1aae85dd853ac15d0db36c095b.mp3         sim  albigularis    sim   \n",
       "2  323eed79164501a3b70838c319638159.mp3         sim  albigularis    sim   \n",
       "3  ca14c8ee56a94062f8436ea02a970971.mp3         sim  albigularis    sim   \n",
       "4  cc8019aad97ab259345ea74e510a238b.mp3         sim  albigularis    sim   \n",
       "\n",
       "                    esp_sub  \n",
       "0  Crypturellus_albigularis  \n",
       "1  Crypturellus_albigularis  \n",
       "2  Crypturellus_albigularis  \n",
       "3  Crypturellus_albigularis  \n",
       "4  Crypturellus_albigularis  "
      ]
     },
     "execution_count": 2,
     "metadata": {},
     "output_type": "execute_result"
    }
   ],
   "source": [
    "df = pd.read_csv('Passaros/cantos2.csv', encoding='latin-1', sep=';')\n",
    "df.head()"
   ]
  },
  {
   "cell_type": "code",
   "execution_count": 3,
   "metadata": {},
   "outputs": [],
   "source": [
    "df.rename(columns={'esp_sub':'label'}, inplace=True)\n",
    "df.rename(columns={'WAV_total':'fname'}, inplace=True)"
   ]
  },
  {
   "cell_type": "code",
   "execution_count": 4,
   "metadata": {},
   "outputs": [
    {
     "name": "stdout",
     "output_type": "stream",
     "text": [
      "482\n",
      "482\n"
     ]
    }
   ],
   "source": [
    "print(len(df))\n",
    "df = df[df['se_15+']=='sim']\n",
    "print(len(df))"
   ]
  },
  {
   "cell_type": "code",
   "execution_count": 5,
   "metadata": {},
   "outputs": [
    {
     "name": "stdout",
     "output_type": "stream",
     "text": [
      "482\n",
      "482\n"
     ]
    }
   ],
   "source": [
    "print(len(df))\n",
    "df = df[df['se_pendrive']=='sim']\n",
    "print(len(df))"
   ]
  },
  {
   "cell_type": "code",
   "execution_count": 6,
   "metadata": {},
   "outputs": [],
   "source": [
    "# esp = pd.DataFrame(df.label.value_counts())\n",
    "# esp = list(esp.head(30).index)\n",
    "# len(esp)\n",
    "# df = df[df.label.isin(esp)]"
   ]
  },
  {
   "cell_type": "code",
   "execution_count": 7,
   "metadata": {},
   "outputs": [],
   "source": [
    "# for a in ['Myrmophylax_melanura','Syndactyla_rufosuperciliata', 'Xiphorhynchus_fuscus', 'Cichlocolaptes_holti']:\n",
    "#     print(a, len(df[df.label==a]))"
   ]
  },
  {
   "cell_type": "code",
   "execution_count": 8,
   "metadata": {},
   "outputs": [],
   "source": [
    "# for c in ['Sclerurus_cearensis', 'Syndactyla_rufosuperciliata', 'Microrhopias_bicolor']:\n",
    "#     df = df[df.label != c]"
   ]
  },
  {
   "cell_type": "code",
   "execution_count": 9,
   "metadata": {},
   "outputs": [
    {
     "data": {
      "text/plain": [
       "23"
      ]
     },
     "execution_count": 9,
     "metadata": {},
     "output_type": "execute_result"
    }
   ],
   "source": [
    "len(df['label'].value_counts())"
   ]
  },
  {
   "cell_type": "code",
   "execution_count": 10,
   "metadata": {},
   "outputs": [
    {
     "data": {
      "text/html": [
       "<div>\n",
       "<style scoped>\n",
       "    .dataframe tbody tr th:only-of-type {\n",
       "        vertical-align: middle;\n",
       "    }\n",
       "\n",
       "    .dataframe tbody tr th {\n",
       "        vertical-align: top;\n",
       "    }\n",
       "\n",
       "    .dataframe thead th {\n",
       "        text-align: right;\n",
       "    }\n",
       "</style>\n",
       "<table border=\"1\" class=\"dataframe\">\n",
       "  <thead>\n",
       "    <tr style=\"text-align: right;\">\n",
       "      <th></th>\n",
       "      <th>fname</th>\n",
       "      <th>label</th>\n",
       "    </tr>\n",
       "  </thead>\n",
       "  <tbody>\n",
       "    <tr>\n",
       "      <th>0</th>\n",
       "      <td>59585ea4b32685f8e0328334b8fb966a.wav</td>\n",
       "      <td>Crypturellus_albigularis</td>\n",
       "    </tr>\n",
       "    <tr>\n",
       "      <th>1</th>\n",
       "      <td>62843f1aae85dd853ac15d0db36c095b.wav</td>\n",
       "      <td>Crypturellus_albigularis</td>\n",
       "    </tr>\n",
       "    <tr>\n",
       "      <th>2</th>\n",
       "      <td>323eed79164501a3b70838c319638159.wav</td>\n",
       "      <td>Crypturellus_albigularis</td>\n",
       "    </tr>\n",
       "    <tr>\n",
       "      <th>3</th>\n",
       "      <td>ca14c8ee56a94062f8436ea02a970971.wav</td>\n",
       "      <td>Crypturellus_albigularis</td>\n",
       "    </tr>\n",
       "    <tr>\n",
       "      <th>4</th>\n",
       "      <td>cc8019aad97ab259345ea74e510a238b.wav</td>\n",
       "      <td>Crypturellus_albigularis</td>\n",
       "    </tr>\n",
       "    <tr>\n",
       "      <th>...</th>\n",
       "      <td>...</td>\n",
       "      <td>...</td>\n",
       "    </tr>\n",
       "    <tr>\n",
       "      <th>477</th>\n",
       "      <td>2f50721abc871ee082f397f3029916f7.wav</td>\n",
       "      <td>Myrmophylax_melanura</td>\n",
       "    </tr>\n",
       "    <tr>\n",
       "      <th>478</th>\n",
       "      <td>8e0fd92f90b19046adf93f0a2ed42ca7.wav</td>\n",
       "      <td>Myrmophylax_melanura</td>\n",
       "    </tr>\n",
       "    <tr>\n",
       "      <th>479</th>\n",
       "      <td>5fae2f1c2f098beab8d62dbae494af7c.wav</td>\n",
       "      <td>Myrmophylax_melanura</td>\n",
       "    </tr>\n",
       "    <tr>\n",
       "      <th>480</th>\n",
       "      <td>a6a72518c5c2f7bf412670f243f4fd17.wav</td>\n",
       "      <td>Myrmophylax_melanura</td>\n",
       "    </tr>\n",
       "    <tr>\n",
       "      <th>481</th>\n",
       "      <td>7c5f56f166aa1388576e0545ee3c2745.wav</td>\n",
       "      <td>Myrmophylax_melanura</td>\n",
       "    </tr>\n",
       "  </tbody>\n",
       "</table>\n",
       "<p>482 rows × 2 columns</p>\n",
       "</div>"
      ],
      "text/plain": [
       "                                    fname                     label\n",
       "0    59585ea4b32685f8e0328334b8fb966a.wav  Crypturellus_albigularis\n",
       "1    62843f1aae85dd853ac15d0db36c095b.wav  Crypturellus_albigularis\n",
       "2    323eed79164501a3b70838c319638159.wav  Crypturellus_albigularis\n",
       "3    ca14c8ee56a94062f8436ea02a970971.wav  Crypturellus_albigularis\n",
       "4    cc8019aad97ab259345ea74e510a238b.wav  Crypturellus_albigularis\n",
       "..                                    ...                       ...\n",
       "477  2f50721abc871ee082f397f3029916f7.wav      Myrmophylax_melanura\n",
       "478  8e0fd92f90b19046adf93f0a2ed42ca7.wav      Myrmophylax_melanura\n",
       "479  5fae2f1c2f098beab8d62dbae494af7c.wav      Myrmophylax_melanura\n",
       "480  a6a72518c5c2f7bf412670f243f4fd17.wav      Myrmophylax_melanura\n",
       "481  7c5f56f166aa1388576e0545ee3c2745.wav      Myrmophylax_melanura\n",
       "\n",
       "[482 rows x 2 columns]"
      ]
     },
     "execution_count": 10,
     "metadata": {},
     "output_type": "execute_result"
    }
   ],
   "source": [
    "df = df[['fname', 'label']]\n",
    "df"
   ]
  },
  {
   "cell_type": "code",
   "execution_count": 11,
   "metadata": {},
   "outputs": [],
   "source": [
    "df.fname = df.fname.apply(lambda x: x[:-4]+'_filtrado.wav')"
   ]
  },
  {
   "cell_type": "code",
   "execution_count": 12,
   "metadata": {},
   "outputs": [],
   "source": [
    "df.set_index('fname', inplace=True)"
   ]
  },
  {
   "cell_type": "code",
   "execution_count": 13,
   "metadata": {},
   "outputs": [
    {
     "name": "stderr",
     "output_type": "stream",
     "text": [
      "100%|██████████| 482/482 [00:00<00:00, 2590.04it/s]\n"
     ]
    }
   ],
   "source": [
    "# Import the AudioSegment class for processing audio and the \n",
    "# split_on_silence function for separating out silent chunks.\n",
    "from pydub import AudioSegment\n",
    "from pydub.silence import split_on_silence\n",
    "from tqdm import tqdm\n",
    "import os\n",
    "\n",
    "# Define a function to normalize a chunk to a target amplitude.\n",
    "def match_target_amplitude(aChunk, target_dBFS):\n",
    "    ''' Normalize given audio chunk '''\n",
    "    change_in_dBFS = target_dBFS - aChunk.dBFS\n",
    "    return aChunk.apply_gain(change_in_dBFS)\n",
    "\n",
    "# Create a silence chunk that's 0.5 seconds (or 500 ms) long for padding.\n",
    "# silence_chunk = AudioSegment.silent(duration=150)\n",
    "\n",
    "#audio_dir = caminho pra pasta onde estão os arquivos\n",
    "audio_dir = 'Passaros/'\n",
    "#audio_dir2 = caminho pra pasta onde quer salvar os arquivos\n",
    "audio_dir2 = 'sem_silencio/'\n",
    "\n",
    "for fname in tqdm(df.index):\n",
    "    if fname not in os.listdir(audio_dir2):\n",
    "        if fname[-4:] == '.wav':\n",
    "            audio_chunk = 0\n",
    "            # Load your audio.\n",
    "            song = AudioSegment.from_wav(audio_dir+fname)\n",
    "\n",
    "            # Split track where the silence is 2 seconds or more and get chunks using \n",
    "            # the imported function.\n",
    "            chunks = split_on_silence (\n",
    "                # Use the loaded audio.\n",
    "                song, \n",
    "                # Specify that a silent chunk must be at least 2 seconds or 2000 ms long.\n",
    "                min_silence_len = 1000,\n",
    "                # Consider a chunk silent if it's quieter than -16 dBFS.\n",
    "                # (You may want to adjust this parameter.)\n",
    "                silence_thresh = -40\n",
    "            )\n",
    "\n",
    "            # Process each chunk with your parameters\n",
    "            if len(chunks) > 1:\n",
    "                for chunk in chunks:\n",
    "                    if audio_chunk == 0:\n",
    "                        audio_chunk =  chunk\n",
    "                    else:\n",
    "                        audio_chunk = audio_chunk + chunk\n",
    "            else:\n",
    "                audio_chunk = chunk\n",
    "            # Normalize the entire chunk.\n",
    "            normalized_chunk = match_target_amplitude(audio_chunk, -20.0)\n",
    "            normalized_chunk.export(audio_dir2+fname, bitrate='192k', format=\"wav\")"
   ]
  },
  {
   "cell_type": "code",
   "execution_count": 14,
   "metadata": {},
   "outputs": [
    {
     "name": "stderr",
     "output_type": "stream",
     "text": [
      "100%|██████████| 482/482 [00:01<00:00, 406.74it/s]\n"
     ]
    }
   ],
   "source": [
    "diretorio = 'sem_silencio/'\n",
    "for f in tqdm(df.index):\n",
    "    rate, signal = wavfile.read(diretorio+f)\n",
    "    df.at[f, 'length'] = signal.shape[0]/rate"
   ]
  },
  {
   "cell_type": "code",
   "execution_count": 15,
   "metadata": {},
   "outputs": [
    {
     "data": {
      "text/html": [
       "<div>\n",
       "<style scoped>\n",
       "    .dataframe tbody tr th:only-of-type {\n",
       "        vertical-align: middle;\n",
       "    }\n",
       "\n",
       "    .dataframe tbody tr th {\n",
       "        vertical-align: top;\n",
       "    }\n",
       "\n",
       "    .dataframe thead th {\n",
       "        text-align: right;\n",
       "    }\n",
       "</style>\n",
       "<table border=\"1\" class=\"dataframe\">\n",
       "  <thead>\n",
       "    <tr style=\"text-align: right;\">\n",
       "      <th></th>\n",
       "      <th>length</th>\n",
       "      <th>porc</th>\n",
       "    </tr>\n",
       "    <tr>\n",
       "      <th>label</th>\n",
       "      <th></th>\n",
       "      <th></th>\n",
       "    </tr>\n",
       "  </thead>\n",
       "  <tbody>\n",
       "    <tr>\n",
       "      <th>Brotogeris_chiriri</th>\n",
       "      <td>66.251882</td>\n",
       "      <td>1.115</td>\n",
       "    </tr>\n",
       "    <tr>\n",
       "      <th>Myrmophylax_melanura</th>\n",
       "      <td>78.367120</td>\n",
       "      <td>1.319</td>\n",
       "    </tr>\n",
       "    <tr>\n",
       "      <th>Patagioenas_plumbea</th>\n",
       "      <td>125.045941</td>\n",
       "      <td>2.105</td>\n",
       "    </tr>\n",
       "    <tr>\n",
       "      <th>Microrhopias_bicolor</th>\n",
       "      <td>125.202086</td>\n",
       "      <td>2.107</td>\n",
       "    </tr>\n",
       "    <tr>\n",
       "      <th>Xiphorhynchus_tenuirostris</th>\n",
       "      <td>125.227029</td>\n",
       "      <td>2.108</td>\n",
       "    </tr>\n",
       "    <tr>\n",
       "      <th>Pygiptila_stellaris</th>\n",
       "      <td>127.588707</td>\n",
       "      <td>2.147</td>\n",
       "    </tr>\n",
       "    <tr>\n",
       "      <th>Sclerurus_cearensis</th>\n",
       "      <td>151.660726</td>\n",
       "      <td>2.552</td>\n",
       "    </tr>\n",
       "    <tr>\n",
       "      <th>Xiphorhynchus_atlanticus</th>\n",
       "      <td>157.403991</td>\n",
       "      <td>2.649</td>\n",
       "    </tr>\n",
       "    <tr>\n",
       "      <th>Crypturellus_albigularis</th>\n",
       "      <td>159.162948</td>\n",
       "      <td>2.679</td>\n",
       "    </tr>\n",
       "    <tr>\n",
       "      <th>Cichlocolaptes_holti</th>\n",
       "      <td>163.026848</td>\n",
       "      <td>2.744</td>\n",
       "    </tr>\n",
       "    <tr>\n",
       "      <th>Syndactyla_rufosuperciliata</th>\n",
       "      <td>166.548435</td>\n",
       "      <td>2.803</td>\n",
       "    </tr>\n",
       "    <tr>\n",
       "      <th>Sclerurus_macconnelli</th>\n",
       "      <td>227.229932</td>\n",
       "      <td>3.824</td>\n",
       "    </tr>\n",
       "    <tr>\n",
       "      <th>Trogon_aurantius</th>\n",
       "      <td>265.479501</td>\n",
       "      <td>4.468</td>\n",
       "    </tr>\n",
       "    <tr>\n",
       "      <th>Crypturellus_obsoletus</th>\n",
       "      <td>274.233968</td>\n",
       "      <td>4.615</td>\n",
       "    </tr>\n",
       "    <tr>\n",
       "      <th>Xiphorhynchus_eytoni</th>\n",
       "      <td>274.725760</td>\n",
       "      <td>4.624</td>\n",
       "    </tr>\n",
       "    <tr>\n",
       "      <th>Ramphastos_ariel</th>\n",
       "      <td>296.788526</td>\n",
       "      <td>4.995</td>\n",
       "    </tr>\n",
       "    <tr>\n",
       "      <th>Trogon_chrysochloros</th>\n",
       "      <td>310.531156</td>\n",
       "      <td>5.226</td>\n",
       "    </tr>\n",
       "    <tr>\n",
       "      <th>Sittasomus_sylviellus</th>\n",
       "      <td>323.101361</td>\n",
       "      <td>5.438</td>\n",
       "    </tr>\n",
       "    <tr>\n",
       "      <th>Phaethornis_eurynome</th>\n",
       "      <td>342.444807</td>\n",
       "      <td>5.763</td>\n",
       "    </tr>\n",
       "    <tr>\n",
       "      <th>Sclerurus_scansor</th>\n",
       "      <td>428.885397</td>\n",
       "      <td>7.218</td>\n",
       "    </tr>\n",
       "    <tr>\n",
       "      <th>Megascops_usta</th>\n",
       "      <td>485.279002</td>\n",
       "      <td>8.167</td>\n",
       "    </tr>\n",
       "    <tr>\n",
       "      <th>Xiphorhynchus_fuscus</th>\n",
       "      <td>560.677868</td>\n",
       "      <td>9.436</td>\n",
       "    </tr>\n",
       "    <tr>\n",
       "      <th>Xiphorhynchus_guttatoides</th>\n",
       "      <td>706.948662</td>\n",
       "      <td>11.898</td>\n",
       "    </tr>\n",
       "  </tbody>\n",
       "</table>\n",
       "</div>"
      ],
      "text/plain": [
       "                                 length    porc\n",
       "label                                          \n",
       "Brotogeris_chiriri            66.251882   1.115\n",
       "Myrmophylax_melanura          78.367120   1.319\n",
       "Patagioenas_plumbea          125.045941   2.105\n",
       "Microrhopias_bicolor         125.202086   2.107\n",
       "Xiphorhynchus_tenuirostris   125.227029   2.108\n",
       "Pygiptila_stellaris          127.588707   2.147\n",
       "Sclerurus_cearensis          151.660726   2.552\n",
       "Xiphorhynchus_atlanticus     157.403991   2.649\n",
       "Crypturellus_albigularis     159.162948   2.679\n",
       "Cichlocolaptes_holti         163.026848   2.744\n",
       "Syndactyla_rufosuperciliata  166.548435   2.803\n",
       "Sclerurus_macconnelli        227.229932   3.824\n",
       "Trogon_aurantius             265.479501   4.468\n",
       "Crypturellus_obsoletus       274.233968   4.615\n",
       "Xiphorhynchus_eytoni         274.725760   4.624\n",
       "Ramphastos_ariel             296.788526   4.995\n",
       "Trogon_chrysochloros         310.531156   5.226\n",
       "Sittasomus_sylviellus        323.101361   5.438\n",
       "Phaethornis_eurynome         342.444807   5.763\n",
       "Sclerurus_scansor            428.885397   7.218\n",
       "Megascops_usta               485.279002   8.167\n",
       "Xiphorhynchus_fuscus         560.677868   9.436\n",
       "Xiphorhynchus_guttatoides    706.948662  11.898"
      ]
     },
     "execution_count": 15,
     "metadata": {},
     "output_type": "execute_result"
    }
   ],
   "source": [
    "a = pd.DataFrame(df['length'].groupby(df['label']).sum())\n",
    "soma = a.length.sum()\n",
    "a['porc'] = round(a.length/soma*100, 3)\n",
    "a = a.sort_values(by=['length'])\n",
    "a"
   ]
  },
  {
   "cell_type": "code",
   "execution_count": 16,
   "metadata": {},
   "outputs": [
    {
     "name": "stdout",
     "output_type": "stream",
     "text": [
      "count    482.000000\n",
      "mean      12.327410\n",
      "std       21.226810\n",
      "min        0.113016\n",
      "25%        1.448027\n",
      "50%        5.369524\n",
      "75%       14.391202\n",
      "max      216.411973\n",
      "Name: length, dtype: float64\n"
     ]
    }
   ],
   "source": [
    "print(df.length.describe())\n",
    "del[df['length']]"
   ]
  },
  {
   "cell_type": "code",
   "execution_count": 17,
   "metadata": {},
   "outputs": [],
   "source": [
    "# print(len(df[df.length>94])/len(df))\n",
    "# print(len(df[df.length<5])/len(df))\n",
    "# print(df.length.describe())\n",
    "# df = df[df.length>5]\n",
    "# df = df[df.length<94]\n",
    "# print(df.length.describe())"
   ]
  },
  {
   "cell_type": "code",
   "execution_count": 18,
   "metadata": {},
   "outputs": [],
   "source": [
    "from sklearn.model_selection import train_test_split\n",
    "X_train, X_test, y_train, y_test = train_test_split(df.index, df.label, test_size=0.2, random_state=100, stratify=df.label)"
   ]
  },
  {
   "cell_type": "code",
   "execution_count": 19,
   "metadata": {},
   "outputs": [
    {
     "data": {
      "text/html": [
       "<div>\n",
       "<style scoped>\n",
       "    .dataframe tbody tr th:only-of-type {\n",
       "        vertical-align: middle;\n",
       "    }\n",
       "\n",
       "    .dataframe tbody tr th {\n",
       "        vertical-align: top;\n",
       "    }\n",
       "\n",
       "    .dataframe thead th {\n",
       "        text-align: right;\n",
       "    }\n",
       "</style>\n",
       "<table border=\"1\" class=\"dataframe\">\n",
       "  <thead>\n",
       "    <tr style=\"text-align: right;\">\n",
       "      <th></th>\n",
       "      <th>label</th>\n",
       "    </tr>\n",
       "    <tr>\n",
       "      <th>fname</th>\n",
       "      <th></th>\n",
       "    </tr>\n",
       "  </thead>\n",
       "  <tbody>\n",
       "    <tr>\n",
       "      <th>80c60a2a625beeb09c36f7fd6c85e87d_filtrado.wav</th>\n",
       "      <td>Megascops_usta</td>\n",
       "    </tr>\n",
       "    <tr>\n",
       "      <th>85f8eb6dd1db20c859ab9e63d73d401a_filtrado.wav</th>\n",
       "      <td>Xiphorhynchus_eytoni</td>\n",
       "    </tr>\n",
       "    <tr>\n",
       "      <th>4df06758a9fc79eedb45d5c8fcf299f4_filtrado.wav</th>\n",
       "      <td>Cichlocolaptes_holti</td>\n",
       "    </tr>\n",
       "    <tr>\n",
       "      <th>1b58ba9cfbf8da4fab57f84d404f8735_filtrado.wav</th>\n",
       "      <td>Sittasomus_sylviellus</td>\n",
       "    </tr>\n",
       "    <tr>\n",
       "      <th>6f90de95a2b4439584c711bf2e38502b_filtrado.wav</th>\n",
       "      <td>Cichlocolaptes_holti</td>\n",
       "    </tr>\n",
       "    <tr>\n",
       "      <th>...</th>\n",
       "      <td>...</td>\n",
       "    </tr>\n",
       "    <tr>\n",
       "      <th>9dc5a3f981af1d785d6c7088a2f655fa_filtrado.wav</th>\n",
       "      <td>Sclerurus_macconnelli</td>\n",
       "    </tr>\n",
       "    <tr>\n",
       "      <th>41a4b7ddbed84594129c96b9a7373017_filtrado.wav</th>\n",
       "      <td>Xiphorhynchus_guttatoides</td>\n",
       "    </tr>\n",
       "    <tr>\n",
       "      <th>2c9107f3e7640a858af638b0336b8c5f_filtrado.wav</th>\n",
       "      <td>Microrhopias_bicolor</td>\n",
       "    </tr>\n",
       "    <tr>\n",
       "      <th>37a0d61d2104fcaeba89e2b267ad41fa_filtrado.wav</th>\n",
       "      <td>Sclerurus_cearensis</td>\n",
       "    </tr>\n",
       "    <tr>\n",
       "      <th>1aea90d3e6ff6731d17b79daa38cb1c_filtrado.wav</th>\n",
       "      <td>Xiphorhynchus_fuscus</td>\n",
       "    </tr>\n",
       "  </tbody>\n",
       "</table>\n",
       "<p>385 rows × 1 columns</p>\n",
       "</div>"
      ],
      "text/plain": [
       "                                                                   label\n",
       "fname                                                                   \n",
       "80c60a2a625beeb09c36f7fd6c85e87d_filtrado.wav             Megascops_usta\n",
       "85f8eb6dd1db20c859ab9e63d73d401a_filtrado.wav       Xiphorhynchus_eytoni\n",
       "4df06758a9fc79eedb45d5c8fcf299f4_filtrado.wav       Cichlocolaptes_holti\n",
       "1b58ba9cfbf8da4fab57f84d404f8735_filtrado.wav      Sittasomus_sylviellus\n",
       "6f90de95a2b4439584c711bf2e38502b_filtrado.wav       Cichlocolaptes_holti\n",
       "...                                                                  ...\n",
       "9dc5a3f981af1d785d6c7088a2f655fa_filtrado.wav      Sclerurus_macconnelli\n",
       "41a4b7ddbed84594129c96b9a7373017_filtrado.wav  Xiphorhynchus_guttatoides\n",
       "2c9107f3e7640a858af638b0336b8c5f_filtrado.wav       Microrhopias_bicolor\n",
       "37a0d61d2104fcaeba89e2b267ad41fa_filtrado.wav        Sclerurus_cearensis\n",
       "1aea90d3e6ff6731d17b79daa38cb1c_filtrado.wav        Xiphorhynchus_fuscus\n",
       "\n",
       "[385 rows x 1 columns]"
      ]
     },
     "execution_count": 19,
     "metadata": {},
     "output_type": "execute_result"
    }
   ],
   "source": [
    "treino = pd.DataFrame(y_train, X_train)\n",
    "treino"
   ]
  },
  {
   "cell_type": "code",
   "execution_count": 20,
   "metadata": {},
   "outputs": [
    {
     "data": {
      "text/html": [
       "<div>\n",
       "<style scoped>\n",
       "    .dataframe tbody tr th:only-of-type {\n",
       "        vertical-align: middle;\n",
       "    }\n",
       "\n",
       "    .dataframe tbody tr th {\n",
       "        vertical-align: top;\n",
       "    }\n",
       "\n",
       "    .dataframe thead th {\n",
       "        text-align: right;\n",
       "    }\n",
       "</style>\n",
       "<table border=\"1\" class=\"dataframe\">\n",
       "  <thead>\n",
       "    <tr style=\"text-align: right;\">\n",
       "      <th></th>\n",
       "      <th>label</th>\n",
       "    </tr>\n",
       "    <tr>\n",
       "      <th>fname</th>\n",
       "      <th></th>\n",
       "    </tr>\n",
       "  </thead>\n",
       "  <tbody>\n",
       "    <tr>\n",
       "      <th>9f0acb1b2547343b53115635eb119aca_filtrado.wav</th>\n",
       "      <td>Xiphorhynchus_fuscus</td>\n",
       "    </tr>\n",
       "    <tr>\n",
       "      <th>13e85a88d9f2d6dbcc1f57df7fefffc8_filtrado.wav</th>\n",
       "      <td>Trogon_aurantius</td>\n",
       "    </tr>\n",
       "    <tr>\n",
       "      <th>3b824e02b7c19c84630477daef505d66_filtrado.wav</th>\n",
       "      <td>Crypturellus_obsoletus</td>\n",
       "    </tr>\n",
       "    <tr>\n",
       "      <th>7b5c641d9a89adb5e306cbb1de77df76_filtrado.wav</th>\n",
       "      <td>Sclerurus_cearensis</td>\n",
       "    </tr>\n",
       "    <tr>\n",
       "      <th>6b4479b29dfe82eda127bab4a3ad6087_filtrado.wav</th>\n",
       "      <td>Sittasomus_sylviellus</td>\n",
       "    </tr>\n",
       "    <tr>\n",
       "      <th>...</th>\n",
       "      <td>...</td>\n",
       "    </tr>\n",
       "    <tr>\n",
       "      <th>323eed79164501a3b70838c319638159_filtrado.wav</th>\n",
       "      <td>Crypturellus_albigularis</td>\n",
       "    </tr>\n",
       "    <tr>\n",
       "      <th>afcd7894354482c2aecb4479e190cc0e_filtrado.wav</th>\n",
       "      <td>Phaethornis_eurynome</td>\n",
       "    </tr>\n",
       "    <tr>\n",
       "      <th>81d79e7b1191c8f2f7bddc4fc6a30310_filtrado.wav</th>\n",
       "      <td>Myrmophylax_melanura</td>\n",
       "    </tr>\n",
       "    <tr>\n",
       "      <th>a0a6f61d8585f0aac987f395cf4335be_filtrado.wav</th>\n",
       "      <td>Patagioenas_plumbea</td>\n",
       "    </tr>\n",
       "    <tr>\n",
       "      <th>533ca44713c43a4842a014c557efd423_filtrado.wav</th>\n",
       "      <td>Brotogeris_chiriri</td>\n",
       "    </tr>\n",
       "  </tbody>\n",
       "</table>\n",
       "<p>97 rows × 1 columns</p>\n",
       "</div>"
      ],
      "text/plain": [
       "                                                                  label\n",
       "fname                                                                  \n",
       "9f0acb1b2547343b53115635eb119aca_filtrado.wav      Xiphorhynchus_fuscus\n",
       "13e85a88d9f2d6dbcc1f57df7fefffc8_filtrado.wav          Trogon_aurantius\n",
       "3b824e02b7c19c84630477daef505d66_filtrado.wav    Crypturellus_obsoletus\n",
       "7b5c641d9a89adb5e306cbb1de77df76_filtrado.wav       Sclerurus_cearensis\n",
       "6b4479b29dfe82eda127bab4a3ad6087_filtrado.wav     Sittasomus_sylviellus\n",
       "...                                                                 ...\n",
       "323eed79164501a3b70838c319638159_filtrado.wav  Crypturellus_albigularis\n",
       "afcd7894354482c2aecb4479e190cc0e_filtrado.wav      Phaethornis_eurynome\n",
       "81d79e7b1191c8f2f7bddc4fc6a30310_filtrado.wav      Myrmophylax_melanura\n",
       "a0a6f61d8585f0aac987f395cf4335be_filtrado.wav       Patagioenas_plumbea\n",
       "533ca44713c43a4842a014c557efd423_filtrado.wav        Brotogeris_chiriri\n",
       "\n",
       "[97 rows x 1 columns]"
      ]
     },
     "execution_count": 20,
     "metadata": {},
     "output_type": "execute_result"
    }
   ],
   "source": [
    "teste = pd.DataFrame(y_test, X_test)\n",
    "teste"
   ]
  },
  {
   "cell_type": "code",
   "execution_count": 21,
   "metadata": {},
   "outputs": [
    {
     "data": {
      "text/plain": [
       "23"
      ]
     },
     "execution_count": 21,
     "metadata": {},
     "output_type": "execute_result"
    }
   ],
   "source": [
    "len(teste.label.value_counts())\n",
    "len(treino.label.value_counts())"
   ]
  },
  {
   "cell_type": "code",
   "execution_count": 22,
   "metadata": {},
   "outputs": [],
   "source": [
    "teste.to_csv('teste_f.csv')\n",
    "treino.to_csv('treino_f.csv')"
   ]
  },
  {
   "cell_type": "code",
   "execution_count": 23,
   "metadata": {},
   "outputs": [
    {
     "data": {
      "text/plain": [
       "0.2519480519480519"
      ]
     },
     "execution_count": 23,
     "metadata": {},
     "output_type": "execute_result"
    }
   ],
   "source": [
    "len(teste)/len(treino)"
   ]
  },
  {
   "cell_type": "code",
   "execution_count": 24,
   "metadata": {},
   "outputs": [
    {
     "data": {
      "text/plain": [
       "97"
      ]
     },
     "execution_count": 24,
     "metadata": {},
     "output_type": "execute_result"
    }
   ],
   "source": [
    "len(teste)"
   ]
  },
  {
   "cell_type": "code",
   "execution_count": null,
   "metadata": {},
   "outputs": [],
   "source": []
  },
  {
   "cell_type": "code",
   "execution_count": null,
   "metadata": {},
   "outputs": [],
   "source": []
  }
 ],
 "metadata": {
  "kernelspec": {
   "display_name": "Python 3",
   "language": "python",
   "name": "python3"
  },
  "language_info": {
   "codemirror_mode": {
    "name": "ipython",
    "version": 3
   },
   "file_extension": ".py",
   "mimetype": "text/x-python",
   "name": "python",
   "nbconvert_exporter": "python",
   "pygments_lexer": "ipython3",
   "version": "3.7.3"
  }
 },
 "nbformat": 4,
 "nbformat_minor": 4
}
